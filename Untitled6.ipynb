{
 "cells": [
  {
   "cell_type": "code",
   "execution_count": 1,
   "id": "99e50b6e-ee36-4f4c-a2ff-7d5935bd2522",
   "metadata": {},
   "outputs": [],
   "source": [
    "import pandas as pd\n",
    "from matplotlib import pyplot as plt\n",
    "import seaborn as sns"
   ]
  },
  {
   "cell_type": "code",
   "execution_count": 2,
   "id": "2befc0b7-8129-4769-a9cb-b135aaf3d847",
   "metadata": {},
   "outputs": [],
   "source": [
    "df = pd.read_csv(\"StudentsPerformance.csv\")"
   ]
  },
  {
   "cell_type": "markdown",
   "id": "5f607c6e-1a4d-489d-b636-ef78454f41b8",
   "metadata": {},
   "source": [
    "### A.) Membuat Table Distribusi Variabel reading_score dan writing_score dengan jumlah dan lebar interval sebesar 10"
   ]
  },
  {
   "cell_type": "markdown",
   "id": "5eeec2a3-eef5-4272-bd43-475049c2e171",
   "metadata": {},
   "source": [
    "#### 1.) - Tabel Frekuensi Distribusi Variabel Writing Score pada grup"
   ]
  },
  {
   "cell_type": "code",
   "execution_count": 3,
   "id": "98421b0c-4e01-4c30-a85e-1cc4eebfa260",
   "metadata": {},
   "outputs": [
    {
     "data": {
      "text/html": [
       "<div>\n",
       "<style scoped>\n",
       "    .dataframe tbody tr th:only-of-type {\n",
       "        vertical-align: middle;\n",
       "    }\n",
       "\n",
       "    .dataframe tbody tr th {\n",
       "        vertical-align: top;\n",
       "    }\n",
       "\n",
       "    .dataframe thead th {\n",
       "        text-align: right;\n",
       "    }\n",
       "</style>\n",
       "<table border=\"1\" class=\"dataframe\">\n",
       "  <thead>\n",
       "    <tr style=\"text-align: right;\">\n",
       "      <th></th>\n",
       "      <th>Writing_Score</th>\n",
       "      <th>Jumlah_Data</th>\n",
       "    </tr>\n",
       "  </thead>\n",
       "  <tbody>\n",
       "    <tr>\n",
       "      <th>0</th>\n",
       "      <td>(64.0, 73.0]</td>\n",
       "      <td>229</td>\n",
       "    </tr>\n",
       "    <tr>\n",
       "      <th>1</th>\n",
       "      <td>(73.0, 82.0]</td>\n",
       "      <td>221</td>\n",
       "    </tr>\n",
       "    <tr>\n",
       "      <th>2</th>\n",
       "      <td>(55.0, 64.0]</td>\n",
       "      <td>169</td>\n",
       "    </tr>\n",
       "    <tr>\n",
       "      <th>3</th>\n",
       "      <td>(46.0, 55.0]</td>\n",
       "      <td>130</td>\n",
       "    </tr>\n",
       "    <tr>\n",
       "      <th>4</th>\n",
       "      <td>(82.0, 91.0]</td>\n",
       "      <td>107</td>\n",
       "    </tr>\n",
       "    <tr>\n",
       "      <th>5</th>\n",
       "      <td>(37.0, 46.0]</td>\n",
       "      <td>63</td>\n",
       "    </tr>\n",
       "    <tr>\n",
       "      <th>6</th>\n",
       "      <td>(91.0, 100.0]</td>\n",
       "      <td>57</td>\n",
       "    </tr>\n",
       "    <tr>\n",
       "      <th>7</th>\n",
       "      <td>(28.0, 37.0]</td>\n",
       "      <td>15</td>\n",
       "    </tr>\n",
       "    <tr>\n",
       "      <th>8</th>\n",
       "      <td>(19.0, 28.0]</td>\n",
       "      <td>6</td>\n",
       "    </tr>\n",
       "    <tr>\n",
       "      <th>9</th>\n",
       "      <td>(9.909, 19.0]</td>\n",
       "      <td>3</td>\n",
       "    </tr>\n",
       "  </tbody>\n",
       "</table>\n",
       "</div>"
      ],
      "text/plain": [
       "   Writing_Score  Jumlah_Data\n",
       "0   (64.0, 73.0]          229\n",
       "1   (73.0, 82.0]          221\n",
       "2   (55.0, 64.0]          169\n",
       "3   (46.0, 55.0]          130\n",
       "4   (82.0, 91.0]          107\n",
       "5   (37.0, 46.0]           63\n",
       "6  (91.0, 100.0]           57\n",
       "7   (28.0, 37.0]           15\n",
       "8   (19.0, 28.0]            6\n",
       "9  (9.909, 19.0]            3"
      ]
     },
     "execution_count": 3,
     "metadata": {},
     "output_type": "execute_result"
    }
   ],
   "source": [
    "data = df[\"writing score\"].value_counts(bins=10).rename_axis(\"Writing_Score\").reset_index(name=\"Jumlah_Data\")\n",
    "data.head(20)"
   ]
  },
  {
   "cell_type": "markdown",
   "id": "42f56763-c386-4e34-ad99-e9c116e54aa9",
   "metadata": {},
   "source": [
    "#### - Histogram Variabel Writing Score"
   ]
  },
  {
   "cell_type": "code",
   "execution_count": 4,
   "id": "6139512c-0b5c-4f0a-9a9b-320ea457cd93",
   "metadata": {},
   "outputs": [
    {
     "data": {
      "image/png": "[encoded data removed]",
      "text/plain": [
       "<Figure size 500x500 with 1 Axes>"
      ]
     },
     "metadata": {},
     "output_type": "display_data"
    }
   ],
   "source": [
    "plt.figure(figsize=(5,5))\n",
    "sns.histplot(data=df, x=\"writing score\", bins=10)\n",
    "plt.show()  "
   ]
  },
  {
   "cell_type": "markdown",
   "id": "69eaacd0-5bec-4b99-a633-9a57dfd8c65f",
   "metadata": {},
   "source": [
    "#### 2.) - Tabel Frekuensi Distribusi Variabel Reading Score pada grup"
   ]
  },
  {
   "cell_type": "code",
   "execution_count": 5,
   "id": "dd48dfe5-8d91-4d7c-a60d-c6e78f8eaf96",
   "metadata": {},
   "outputs": [
    {
     "data": {
      "text/html": [
       "<div>\n",
       "<style scoped>\n",
       "    .dataframe tbody tr th:only-of-type {\n",
       "        vertical-align: middle;\n",
       "    }\n",
       "\n",
       "    .dataframe tbody tr th {\n",
       "        vertical-align: top;\n",
       "    }\n",
       "\n",
       "    .dataframe thead th {\n",
       "        text-align: right;\n",
       "    }\n",
       "</style>\n",
       "<table border=\"1\" class=\"dataframe\">\n",
       "  <thead>\n",
       "    <tr style=\"text-align: right;\">\n",
       "      <th></th>\n",
       "      <th>Reading_Score</th>\n",
       "      <th>Jumlah_Data</th>\n",
       "    </tr>\n",
       "  </thead>\n",
       "  <tbody>\n",
       "    <tr>\n",
       "      <th>0</th>\n",
       "      <td>(66.8, 75.1]</td>\n",
       "      <td>237</td>\n",
       "    </tr>\n",
       "    <tr>\n",
       "      <th>1</th>\n",
       "      <td>(58.5, 66.8]</td>\n",
       "      <td>182</td>\n",
       "    </tr>\n",
       "    <tr>\n",
       "      <th>2</th>\n",
       "      <td>(75.1, 83.4]</td>\n",
       "      <td>168</td>\n",
       "    </tr>\n",
       "    <tr>\n",
       "      <th>3</th>\n",
       "      <td>(50.2, 58.5]</td>\n",
       "      <td>140</td>\n",
       "    </tr>\n",
       "    <tr>\n",
       "      <th>4</th>\n",
       "      <td>(83.4, 91.7]</td>\n",
       "      <td>120</td>\n",
       "    </tr>\n",
       "    <tr>\n",
       "      <th>5</th>\n",
       "      <td>(41.9, 50.2]</td>\n",
       "      <td>64</td>\n",
       "    </tr>\n",
       "    <tr>\n",
       "      <th>6</th>\n",
       "      <td>(91.7, 100.0]</td>\n",
       "      <td>56</td>\n",
       "    </tr>\n",
       "    <tr>\n",
       "      <th>7</th>\n",
       "      <td>(33.6, 41.9]</td>\n",
       "      <td>22</td>\n",
       "    </tr>\n",
       "    <tr>\n",
       "      <th>8</th>\n",
       "      <td>(25.3, 33.6]</td>\n",
       "      <td>7</td>\n",
       "    </tr>\n",
       "    <tr>\n",
       "      <th>9</th>\n",
       "      <td>(16.916, 25.3]</td>\n",
       "      <td>4</td>\n",
       "    </tr>\n",
       "  </tbody>\n",
       "</table>\n",
       "</div>"
      ],
      "text/plain": [
       "    Reading_Score  Jumlah_Data\n",
       "0    (66.8, 75.1]          237\n",
       "1    (58.5, 66.8]          182\n",
       "2    (75.1, 83.4]          168\n",
       "3    (50.2, 58.5]          140\n",
       "4    (83.4, 91.7]          120\n",
       "5    (41.9, 50.2]           64\n",
       "6   (91.7, 100.0]           56\n",
       "7    (33.6, 41.9]           22\n",
       "8    (25.3, 33.6]            7\n",
       "9  (16.916, 25.3]            4"
      ]
     },
     "execution_count": 5,
     "metadata": {},
     "output_type": "execute_result"
    }
   ],
   "source": [
    "data = df[\"reading score\"].value_counts(bins=10).rename_axis(\"Reading_Score\").reset_index(name=\"Jumlah_Data\")\n",
    "data.head(20)"
   ]
  },
  {
   "cell_type": "markdown",
   "id": "bc8ec3ff-18c8-499c-9e11-87a3c2283fc3",
   "metadata": {},
   "source": [
    "#### - Histogram Variabel Reading Score"
   ]
  },
  {
   "cell_type": "code",
   "execution_count": 6,
   "id": "38e5919c-28c4-4c36-877e-f350a9c5f5b4",
   "metadata": {},
   "outputs": [
    {
     "data": {
      "image/png": "[encoded data removed]",
      "text/plain": [
       "<Figure size 500x500 with 1 Axes>"
      ]
     },
     "metadata": {},
     "output_type": "display_data"
    }
   ],
   "source": [
    "plt.figure(figsize=(5,5))\n",
    "sns.histplot(data=df, x = \"reading score\", bins = 10)\n",
    "plt.show()"
   ]
  },
  {
   "cell_type": "code",
   "execution_count": null,
   "id": "e1d245ea-30e9-4a63-bc6e-cbcdaba2fd69",
   "metadata": {},
   "outputs": [],
   "source": []
  }
 ],
 "metadata": {
  "kernelspec": {
   "display_name": "Python 3 (ipykernel)",
   "language": "python",
   "name": "python3"
  },
  "language_info": {
   "codemirror_mode": {
    "name": "ipython",
    "version": 3
   },
   "file_extension": ".py",
   "mimetype": "text/x-python",
   "name": "python",
   "nbconvert_exporter": "python",
   "pygments_lexer": "ipython3",
   "version": "3.10.7"
  }
 },
 "nbformat": 4,
 "nbformat_minor": 5
}
